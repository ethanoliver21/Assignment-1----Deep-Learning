{
 "cells": [
  {
   "cell_type": "markdown",
   "metadata": {
    "id": "_jiGtJu6u9ml"
   },
   "source": [
    "# Copyright\n",
    "\n",
    "<PRE>\n",
    "Copyright (c) 2020 Bálint Gyires-Tóth - All Rights Reserved\n",
    "You may use and modify this code for research and development purpuses.\n",
    "Use this code for educational purposes (self-paced or instructor led) without the permission of the author is prohibited.\n",
    "</PRE>"
   ]
  },
  {
   "cell_type": "markdown",
   "metadata": {
    "id": "oXyFC44jV-PP"
   },
   "source": [
    "\n",
    "\n",
    "# Boston housing prices - modeling\n",
    "In this notebook we will: \n",
    "* using Boston housing data (https://www.cs.toronto.edu/~delve/data/boston/bostonDetail.html)\n",
    "* exploring the data\n",
    "* creating a model\n",
    "* training the model\n",
    "* evaluation on test data\n",
    "* making predictions and regression plot\n",
    "\n",
    "Assigment: \n",
    "* please complete TODO parts\n"
   ]
  },
  {
   "cell_type": "code",
   "execution_count": 1,
   "metadata": {
    "id": "jLX73EvBu9ms"
   },
   "outputs": [],
   "source": [
    "import matplotlib.pyplot as plt\n",
    "import seaborn as sns\n",
    "import numpy as np\n",
    "import pandas as pd\n",
    "import matplotlib.pyplot as plt \n",
    "from sklearn import preprocessing\n",
    "from sklearn.datasets import load_boston"
   ]
  },
  {
   "cell_type": "code",
   "execution_count": 2,
   "metadata": {
    "id": "Ba-K0MyGoNay"
   },
   "outputs": [],
   "source": [
    "# Keras imports : model, layers, optimizers\n",
    "\n",
    "import tensorflow as tf\n",
    "from tensorflow.keras.models import Sequential\n",
    "from tensorflow.keras.layers import Dense\n",
    "from tensorflow.keras.callbacks import EarlyStopping, TensorBoard\n",
    "from tensorflow.keras.optimizers import Adam"
   ]
  },
  {
   "cell_type": "code",
   "execution_count": 29,
   "metadata": {
    "id": "K5uDujeqviOH"
   },
   "outputs": [
    {
     "name": "stdout",
     "output_type": "stream",
     "text": [
      "[[6.3200e-03 1.8000e+01 2.3100e+00 ... 1.5300e+01 3.9690e+02 4.9800e+00]\n",
      " [2.7310e-02 0.0000e+00 7.0700e+00 ... 1.7800e+01 3.9690e+02 9.1400e+00]\n",
      " [2.7290e-02 0.0000e+00 7.0700e+00 ... 1.7800e+01 3.9283e+02 4.0300e+00]\n",
      " ...\n",
      " [6.0760e-02 0.0000e+00 1.1930e+01 ... 2.1000e+01 3.9690e+02 5.6400e+00]\n",
      " [1.0959e-01 0.0000e+00 1.1930e+01 ... 2.1000e+01 3.9345e+02 6.4800e+00]\n",
      " [4.7410e-02 0.0000e+00 1.1930e+01 ... 2.1000e+01 3.9690e+02 7.8800e+00]]\n",
      "[24.  21.6 34.7 33.4 36.2 28.7 22.9 27.1 16.5 18.9 15.  18.9 21.7 20.4\n",
      " 18.2 19.9 23.1 17.5 20.2 18.2 13.6 19.6 15.2 14.5 15.6 13.9 16.6 14.8\n",
      " 18.4 21.  12.7 14.5 13.2 13.1 13.5 18.9 20.  21.  24.7 30.8 34.9 26.6\n",
      " 25.3 24.7 21.2 19.3 20.  16.6 14.4 19.4 19.7 20.5 25.  23.4 18.9 35.4\n",
      " 24.7 31.6 23.3 19.6 18.7 16.  22.2 25.  33.  23.5 19.4 22.  17.4 20.9\n",
      " 24.2 21.7 22.8 23.4 24.1 21.4 20.  20.8 21.2 20.3 28.  23.9 24.8 22.9\n",
      " 23.9 26.6 22.5 22.2 23.6 28.7 22.6 22.  22.9 25.  20.6 28.4 21.4 38.7\n",
      " 43.8 33.2 27.5 26.5 18.6 19.3 20.1 19.5 19.5 20.4 19.8 19.4 21.7 22.8\n",
      " 18.8 18.7 18.5 18.3 21.2 19.2 20.4 19.3 22.  20.3 20.5 17.3 18.8 21.4\n",
      " 15.7 16.2 18.  14.3 19.2 19.6 23.  18.4 15.6 18.1 17.4 17.1 13.3 17.8\n",
      " 14.  14.4 13.4 15.6 11.8 13.8 15.6 14.6 17.8 15.4 21.5 19.6 15.3 19.4\n",
      " 17.  15.6 13.1 41.3 24.3 23.3 27.  50.  50.  50.  22.7 25.  50.  23.8\n",
      " 23.8 22.3 17.4 19.1 23.1 23.6 22.6 29.4 23.2 24.6 29.9 37.2 39.8 36.2\n",
      " 37.9 32.5 26.4 29.6 50.  32.  29.8 34.9 37.  30.5 36.4 31.1 29.1 50.\n",
      " 33.3 30.3 34.6 34.9 32.9 24.1 42.3 48.5 50.  22.6 24.4 22.5 24.4 20.\n",
      " 21.7 19.3 22.4 28.1 23.7 25.  23.3 28.7 21.5 23.  26.7 21.7 27.5 30.1\n",
      " 44.8 50.  37.6 31.6 46.7 31.5 24.3 31.7 41.7 48.3 29.  24.  25.1 31.5\n",
      " 23.7 23.3 22.  20.1 22.2 23.7 17.6 18.5 24.3 20.5 24.5 26.2 24.4 24.8\n",
      " 29.6 42.8 21.9 20.9 44.  50.  36.  30.1 33.8 43.1 48.8 31.  36.5 22.8\n",
      " 30.7 50.  43.5 20.7 21.1 25.2 24.4 35.2 32.4 32.  33.2 33.1 29.1 35.1\n",
      " 45.4 35.4 46.  50.  32.2 22.  20.1 23.2 22.3 24.8 28.5 37.3 27.9 23.9\n",
      " 21.7 28.6 27.1 20.3 22.5 29.  24.8 22.  26.4 33.1 36.1 28.4 33.4 28.2\n",
      " 22.8 20.3 16.1 22.1 19.4 21.6 23.8 16.2 17.8 19.8 23.1 21.  23.8 23.1\n",
      " 20.4 18.5 25.  24.6 23.  22.2 19.3 22.6 19.8 17.1 19.4 22.2 20.7 21.1\n",
      " 19.5 18.5 20.6 19.  18.7 32.7 16.5 23.9 31.2 17.5 17.2 23.1 24.5 26.6\n",
      " 22.9 24.1 18.6 30.1 18.2 20.6 17.8 21.7 22.7 22.6 25.  19.9 20.8 16.8\n",
      " 21.9 27.5 21.9 23.1 50.  50.  50.  50.  50.  13.8 13.8 15.  13.9 13.3\n",
      " 13.1 10.2 10.4 10.9 11.3 12.3  8.8  7.2 10.5  7.4 10.2 11.5 15.1 23.2\n",
      "  9.7 13.8 12.7 13.1 12.5  8.5  5.   6.3  5.6  7.2 12.1  8.3  8.5  5.\n",
      " 11.9 27.9 17.2 27.5 15.  17.2 17.9 16.3  7.   7.2  7.5 10.4  8.8  8.4\n",
      " 16.7 14.2 20.8 13.4 11.7  8.3 10.2 10.9 11.   9.5 14.5 14.1 16.1 14.3\n",
      " 11.7 13.4  9.6  8.7  8.4 12.8 10.5 17.1 18.4 15.4 10.8 11.8 14.9 12.6\n",
      " 14.1 13.  13.4 15.2 16.1 17.8 14.9 14.1 12.7 13.5 14.9 20.  16.4 17.7\n",
      " 19.5 20.2 21.4 19.9 19.  19.1 19.1 20.1 19.9 19.6 23.2 29.8 13.8 13.3\n",
      " 16.7 12.  14.6 21.4 23.  23.7 25.  21.8 20.6 21.2 19.1 20.6 15.2  7.\n",
      "  8.1 13.6 20.1 21.8 24.5 23.1 19.7 18.3 21.2 17.5 16.8 22.4 20.6 23.9\n",
      " 22.  11.9]\n",
      "506\n",
      "13\n"
     ]
    }
   ],
   "source": [
    "# load Boston Housing dataset\n",
    "X, Y = load_boston(return_X_y=True)\n",
    "nb_samples = X.shape[0]\n",
    "\n",
    "print(X)\n",
    "print(Y)\n",
    "print(nb_samples)\n",
    "print(X.shape[1])"
   ]
  },
  {
   "cell_type": "markdown",
   "metadata": {
    "id": "sS7xCTZioeIK"
   },
   "source": [
    "Splitting data into training, validation and test sets:"
   ]
  },
  {
   "cell_type": "code",
   "execution_count": 13,
   "metadata": {
    "id": "YWUhEmcaoYeW"
   },
   "outputs": [
    {
     "name": "stdout",
     "output_type": "stream",
     "text": [
      "(354, 13)\n",
      "(354,)\n"
     ]
    }
   ],
   "source": [
    "valid_split = 0.2\n",
    "test_split  = 0.1\n",
    "\n",
    "v_point = int(X.shape[0]*(1-valid_split-test_split))\n",
    "t_point = int(X.shape[0]*(1-test_split))\n",
    "\n",
    "X_train = X[:v_point]\n",
    "Y_train = Y[:v_point]\n",
    "X_valid = X[v_point:t_point]\n",
    "Y_valid = Y[v_point:t_point]\n",
    "X_test  = X[t_point:]\n",
    "Y_test  = Y[t_point:]\n",
    "\n",
    "print(X_train.shape)\n",
    "print(Y_train.shape)"
   ]
  },
  {
   "cell_type": "markdown",
   "metadata": {
    "id": "n6awn-6uogmo"
   },
   "source": [
    "Standardization of the data:"
   ]
  },
  {
   "cell_type": "code",
   "execution_count": 16,
   "metadata": {
    "id": "XSNawE7Zob_Y"
   },
   "outputs": [
    {
     "name": "stdout",
     "output_type": "stream",
     "text": [
      "[[-0.61422935  0.08502463 -0.99745124 ... -1.10174174  0.40744116\n",
      "  -0.91801803]\n",
      " [-0.58137446 -0.60778477 -0.21519262 ...  0.04159954  0.40744116\n",
      "  -0.20945492]\n",
      " [-0.58140576 -0.60778477 -0.21519262 ...  0.04159954  0.30628664\n",
      "  -1.07982932]\n",
      " ...\n",
      " [-0.49968332  1.70157991 -1.09934207 ...  0.27026779 -0.24173725\n",
      "  -0.83115092]\n",
      " [-0.51073408  1.70157991 -1.09934207 ...  0.27026779  0.2938598\n",
      "  -0.43939727]\n",
      " [-0.59737146  2.85626225 -1.04510986 ... -0.32426967  0.09826124\n",
      "  -0.99977531]]\n"
     ]
    }
   ],
   "source": [
    "scaler  = preprocessing.StandardScaler().fit(X_train)\n",
    "X_train = scaler.transform(X_train)\n",
    "X_valid = scaler.transform(X_valid)\n",
    "X_test  = scaler.transform(X_test)\n",
    "\n",
    "print(X_train)"
   ]
  },
  {
   "cell_type": "markdown",
   "metadata": {
    "id": "MpBJFHZvu9m2"
   },
   "source": [
    "Defining the model (with one or two hidden layers and 8-64 neurons / layer, the input and output layers' sizes are defined by the data):"
   ]
  },
  {
   "cell_type": "code",
   "execution_count": 30,
   "metadata": {
    "id": "flEY3-qBorvA"
   },
   "outputs": [],
   "source": [
    "model = Sequential()\n",
    "# model.add(....)\n",
    "\n",
    "model.add(Dense(64, input_shape=(X.shape[1],), activation='tanh'))\n",
    "model.add(Dense(32, activation='tanh'))\n",
    "model.add(Dense(1, activation='linear'))"
   ]
  },
  {
   "cell_type": "markdown",
   "metadata": {
    "id": "efZ6M0Yh3WlT"
   },
   "source": [
    "Inspect the model summary:"
   ]
  },
  {
   "cell_type": "code",
   "execution_count": 31,
   "metadata": {
    "id": "LhfnanAm3X9l"
   },
   "outputs": [
    {
     "name": "stdout",
     "output_type": "stream",
     "text": [
      "Model: \"sequential_3\"\n",
      "_________________________________________________________________\n",
      "Layer (type)                 Output Shape              Param #   \n",
      "=================================================================\n",
      "dense_7 (Dense)              (None, 64)                896       \n",
      "_________________________________________________________________\n",
      "dense_8 (Dense)              (None, 32)                2080      \n",
      "_________________________________________________________________\n",
      "dense_9 (Dense)              (None, 1)                 33        \n",
      "=================================================================\n",
      "Total params: 3,009\n",
      "Trainable params: 3,009\n",
      "Non-trainable params: 0\n",
      "_________________________________________________________________\n"
     ]
    }
   ],
   "source": [
    "model.summary()"
   ]
  },
  {
   "cell_type": "markdown",
   "metadata": {
    "id": "h3hCd6Cf3ZS1"
   },
   "source": [
    "Number of trainable parameters in the model: 3,009"
   ]
  },
  {
   "cell_type": "markdown",
   "metadata": {
    "id": "ibjhW3pAoveO"
   },
   "source": [
    "Compiling the model:"
   ]
  },
  {
   "cell_type": "code",
   "execution_count": 32,
   "metadata": {
    "id": "ztxln4VUow5q"
   },
   "outputs": [],
   "source": [
    "model.compile(loss='mean_squared_error', \n",
    "              optimizer=Adam(learning_rate=0.1))"
   ]
  },
  {
   "cell_type": "markdown",
   "metadata": {
    "id": "zfmN2ROJo4xq"
   },
   "source": [
    "Defining the earlystopping callback function:"
   ]
  },
  {
   "cell_type": "code",
   "execution_count": 38,
   "metadata": {
    "id": "fhQMRIhio3Js"
   },
   "outputs": [],
   "source": [
    "es = EarlyStopping(monitor='val_loss', \n",
    "                   patience=30, \n",
    "                   verbose=1,\n",
    "                   restore_best_weights=True)"
   ]
  },
  {
   "cell_type": "markdown",
   "metadata": {
    "id": "JqJNQCtB2k08"
   },
   "source": [
    "Train the model, use training and validation data and apply early stopping:"
   ]
  },
  {
   "cell_type": "code",
   "execution_count": 39,
   "metadata": {
    "id": "oWDGwe862kQj"
   },
   "outputs": [
    {
     "name": "stdout",
     "output_type": "stream",
     "text": [
      "Epoch 1/1000\n",
      "12/12 [==============================] - 0s 5ms/step - loss: 58.9682 - val_loss: 93.0462\n",
      "Epoch 2/1000\n",
      "12/12 [==============================] - 0s 3ms/step - loss: 42.8966 - val_loss: 72.7321\n",
      "Epoch 3/1000\n",
      "12/12 [==============================] - 0s 3ms/step - loss: 32.8358 - val_loss: 107.5531\n",
      "Epoch 4/1000\n",
      "12/12 [==============================] - 0s 3ms/step - loss: 21.5223 - val_loss: 173.5965\n",
      "Epoch 5/1000\n",
      "12/12 [==============================] - 0s 3ms/step - loss: 19.7187 - val_loss: 326.6141\n",
      "Epoch 6/1000\n",
      "12/12 [==============================] - 0s 3ms/step - loss: 28.0078 - val_loss: 236.9592\n",
      "Epoch 7/1000\n",
      "12/12 [==============================] - 0s 3ms/step - loss: 17.6974 - val_loss: 129.3472\n",
      "Epoch 8/1000\n",
      "12/12 [==============================] - 0s 3ms/step - loss: 13.0131 - val_loss: 92.9706\n",
      "Epoch 9/1000\n",
      "12/12 [==============================] - 0s 3ms/step - loss: 11.0301 - val_loss: 146.6457\n",
      "Epoch 10/1000\n",
      "12/12 [==============================] - 0s 3ms/step - loss: 12.8060 - val_loss: 110.0595\n",
      "Epoch 11/1000\n",
      "12/12 [==============================] - 0s 3ms/step - loss: 14.3980 - val_loss: 135.9070\n",
      "Epoch 12/1000\n",
      "12/12 [==============================] - 0s 3ms/step - loss: 11.1765 - val_loss: 122.4173\n",
      "Epoch 13/1000\n",
      "12/12 [==============================] - 0s 3ms/step - loss: 13.2288 - val_loss: 74.6247\n",
      "Epoch 14/1000\n",
      "12/12 [==============================] - 0s 3ms/step - loss: 12.0619 - val_loss: 82.6470\n",
      "Epoch 15/1000\n",
      "12/12 [==============================] - 0s 3ms/step - loss: 10.9858 - val_loss: 103.8765\n",
      "Epoch 16/1000\n",
      "12/12 [==============================] - 0s 3ms/step - loss: 11.0900 - val_loss: 87.3333\n",
      "Epoch 17/1000\n",
      "12/12 [==============================] - 0s 3ms/step - loss: 10.5630 - val_loss: 82.4497\n",
      "Epoch 18/1000\n",
      "12/12 [==============================] - 0s 3ms/step - loss: 10.4731 - val_loss: 95.5819\n",
      "Epoch 19/1000\n",
      "12/12 [==============================] - 0s 3ms/step - loss: 10.4982 - val_loss: 131.2992\n",
      "Epoch 20/1000\n",
      "12/12 [==============================] - 0s 3ms/step - loss: 9.3586 - val_loss: 125.1549\n",
      "Epoch 21/1000\n",
      "12/12 [==============================] - 0s 3ms/step - loss: 9.9250 - val_loss: 110.2301\n",
      "Epoch 22/1000\n",
      "12/12 [==============================] - 0s 3ms/step - loss: 7.2435 - val_loss: 93.5506\n",
      "Epoch 23/1000\n",
      "12/12 [==============================] - 0s 3ms/step - loss: 9.0924 - val_loss: 90.0143\n",
      "Epoch 24/1000\n",
      "12/12 [==============================] - 0s 3ms/step - loss: 8.5920 - val_loss: 137.8557\n",
      "Epoch 25/1000\n",
      "12/12 [==============================] - 0s 3ms/step - loss: 9.4658 - val_loss: 102.0987\n",
      "Epoch 26/1000\n",
      "12/12 [==============================] - 0s 4ms/step - loss: 7.9554 - val_loss: 102.4294\n",
      "Epoch 27/1000\n",
      "12/12 [==============================] - 0s 3ms/step - loss: 7.0555 - val_loss: 132.5425\n",
      "Epoch 28/1000\n",
      "12/12 [==============================] - 0s 3ms/step - loss: 6.8225 - val_loss: 116.1059\n",
      "Epoch 29/1000\n",
      "12/12 [==============================] - 0s 2ms/step - loss: 7.7987 - val_loss: 149.2639\n",
      "Epoch 30/1000\n",
      "12/12 [==============================] - 0s 3ms/step - loss: 7.1185 - val_loss: 186.5220\n",
      "Epoch 31/1000\n",
      "12/12 [==============================] - 0s 3ms/step - loss: 6.3642 - val_loss: 205.3204\n",
      "Epoch 32/1000\n",
      "12/12 [==============================] - 0s 3ms/step - loss: 6.6011 - val_loss: 148.2878\n",
      "Restoring model weights from the end of the best epoch.\n",
      "Epoch 00032: early stopping\n"
     ]
    },
    {
     "data": {
      "text/plain": [
       "<keras.callbacks.History at 0x1b3e08b57c0>"
      ]
     },
     "execution_count": 39,
     "metadata": {},
     "output_type": "execute_result"
    }
   ],
   "source": [
    "model.fit(X_train, Y_train, epochs=1000, \n",
    "          callbacks=[es],\n",
    "          batch_size=32, shuffle=True,  \n",
    "          validation_data=(X_valid, Y_valid))"
   ]
  },
  {
   "cell_type": "markdown",
   "metadata": {
    "id": "pCaNGjzQ2m9D"
   },
   "source": [
    "Evaluate on the test data:"
   ]
  },
  {
   "cell_type": "code",
   "execution_count": 40,
   "metadata": {
    "id": "_MDJut_b3-6Q"
   },
   "outputs": [
    {
     "name": "stdout",
     "output_type": "stream",
     "text": [
      "2/2 [==============================] - 0s 1ms/step - loss: 20.3166\n"
     ]
    },
    {
     "data": {
      "text/plain": [
       "20.316566467285156"
      ]
     },
     "execution_count": 40,
     "metadata": {},
     "output_type": "execute_result"
    }
   ],
   "source": [
    "model.evaluate(X_test, Y_test)"
   ]
  },
  {
   "cell_type": "markdown",
   "metadata": {
    "id": "Gtd_UnfN4TPP"
   },
   "source": [
    "Make predictions:"
   ]
  },
  {
   "cell_type": "code",
   "execution_count": 41,
   "metadata": {
    "id": "OhghFnnf4VA1"
   },
   "outputs": [
    {
     "data": {
      "text/plain": [
       "array([[15.294175],\n",
       "       [14.958903],\n",
       "       [11.053334],\n",
       "       [16.34681 ],\n",
       "       [15.098527],\n",
       "       [16.485876],\n",
       "       [18.584488],\n",
       "       [15.966264],\n",
       "       [16.944803],\n",
       "       [15.640248],\n",
       "       [17.265291],\n",
       "       [16.733395],\n",
       "       [16.16721 ],\n",
       "       [14.764343],\n",
       "       [15.079254],\n",
       "       [17.109465],\n",
       "       [19.69728 ],\n",
       "       [20.18224 ],\n",
       "       [17.563837],\n",
       "       [13.071096],\n",
       "       [14.516848],\n",
       "       [16.060995],\n",
       "       [15.173707],\n",
       "       [14.852349],\n",
       "       [15.744686],\n",
       "       [12.962745],\n",
       "       [17.917404],\n",
       "       [19.460144],\n",
       "       [21.84368 ],\n",
       "       [21.94624 ],\n",
       "       [17.32846 ],\n",
       "       [13.641614],\n",
       "       [13.271451],\n",
       "       [18.1474  ],\n",
       "       [17.86375 ],\n",
       "       [16.570435],\n",
       "       [18.607449],\n",
       "       [18.981586],\n",
       "       [21.512283],\n",
       "       [21.247614],\n",
       "       [19.51188 ],\n",
       "       [18.31326 ],\n",
       "       [21.4512  ],\n",
       "       [22.036482],\n",
       "       [20.870531],\n",
       "       [22.035103],\n",
       "       [18.071976],\n",
       "       [18.068272],\n",
       "       [19.168104],\n",
       "       [18.233755],\n",
       "       [18.07078 ]], dtype=float32)"
      ]
     },
     "execution_count": 41,
     "metadata": {},
     "output_type": "execute_result"
    }
   ],
   "source": [
    "preds = model.predict(X_test)\n",
    "preds"
   ]
  },
  {
   "cell_type": "markdown",
   "metadata": {
    "id": "cZkVPySYAddP"
   },
   "source": [
    "Inspecting the result on a regression plot:"
   ]
  },
  {
   "cell_type": "code",
   "execution_count": 50,
   "metadata": {},
   "outputs": [
    {
     "name": "stdout",
     "output_type": "stream",
     "text": [
      "[14.1 12.7 13.5 14.9 20.  16.4 17.7 19.5 20.2 21.4 19.9 19.  19.1 19.1\n",
      " 20.1 19.9 19.6 23.2 29.8 13.8 13.3 16.7 12.  14.6 21.4 23.  23.7 25.\n",
      " 21.8 20.6 21.2 19.1 20.6 15.2  7.   8.1 13.6 20.1 21.8 24.5 23.1 19.7\n",
      " 18.3 21.2 17.5 16.8 22.4 20.6 23.9 22.  11.9]\n",
      "[15.294175 14.958903 11.053334 16.34681  15.098527 16.485876 18.584488\n",
      " 15.966264 16.944803 15.640248 17.265291 16.733395 16.16721  14.764343\n",
      " 15.079254 17.109465 19.69728  20.18224  17.563837 13.071096 14.516848\n",
      " 16.060995 15.173707 14.852349 15.744686 12.962745 17.917404 19.460144\n",
      " 21.84368  21.94624  17.32846  13.641614 13.271451 18.1474   17.86375\n",
      " 16.570435 18.607449 18.981586 21.512283 21.247614 19.51188  18.31326\n",
      " 21.4512   22.036482 20.870531 22.035103 18.071976 18.068272 19.168104\n",
      " 18.233755 18.07078 ]\n"
     ]
    }
   ],
   "source": [
    "print(Y_test)\n",
    "print(preds.reshape(-1))"
   ]
  },
  {
   "cell_type": "code",
   "execution_count": 51,
   "metadata": {
    "id": "Uzv3YtGlAcl6"
   },
   "outputs": [
    {
     "data": {
      "image/png": "[encoded data removed]",
      "text/plain": [
       "<Figure size 720x720 with 1 Axes>"
      ]
     },
     "metadata": {
      "needs_background": "light"
     },
     "output_type": "display_data"
    }
   ],
   "source": [
    "plt.figure(figsize=(10,10))\n",
    "sns.regplot(x=Y_test.reshape(-1), y=preds.reshape(-1)).set(xlim=(5,30),ylim=(5,30)); "
   ]
  },
  {
   "cell_type": "code",
   "execution_count": null,
   "metadata": {},
   "outputs": [],
   "source": []
  }
 ],
 "metadata": {
  "colab": {
   "collapsed_sections": [],
   "name": "AIT-Deep-learning-Assigment-1",
   "provenance": []
  },
  "kernelspec": {
   "display_name": "Python 3",
   "language": "python",
   "name": "python3"
  },
  "language_info": {
   "codemirror_mode": {
    "name": "ipython",
    "version": 3
   },
   "file_extension": ".py",
   "mimetype": "text/x-python",
   "name": "python",
   "nbconvert_exporter": "python",
   "pygments_lexer": "ipython3",
   "version": "3.8.5"
  }
 },
 "nbformat": 4,
 "nbformat_minor": 1
}
